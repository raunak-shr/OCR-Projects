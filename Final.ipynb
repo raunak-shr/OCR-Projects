{
 "cells": [
  {
   "cell_type": "code",
   "execution_count": 1,
   "id": "f12abe14-557f-47b4-b296-307f81ff17d3",
   "metadata": {},
   "outputs": [],
   "source": [
    "import PyPDF2\n",
    "from PIL import Image\n",
    "import pytesseract as pts\n",
    "pts.pytesseract.tesseract_cmd = r\"C:\\Program Files\\Tesseract-OCR\\tesseract.exe\"\n",
    "from googletrans import Translator\n",
    "import re\n",
    "import pandas as pd\n",
    "import time\n",
    "import warnings\n",
    "warnings.filterwarnings(\"ignore\", category=FutureWarning)\n",
    "import numpy as np\n",
    "import cv2\n",
    "import matplotlib.pyplot as plt\n",
    "import os"
   ]
  },
  {
   "cell_type": "markdown",
   "id": "a00a88c8-2570-4d12-93d8-6d9db8176d00",
   "metadata": {},
   "source": [
    "## $\\text{Convert Each Page to an Image}$\n",
    "---"
   ]
  },
  {
   "cell_type": "code",
   "execution_count": 2,
   "id": "429b8bf1-79b4-41f0-8c28-34ca105d1480",
   "metadata": {},
   "outputs": [],
   "source": [
    "def pdf_to_images(pdf_file, image_prefix):\n",
    "    pdf = PyPDF2.PdfReader(pdf_file)\n",
    "\n",
    "    for page_number in range(len(pdf.pages)):\n",
    "        page = pdf.pages[page_number]\n",
    "        image = page_to_image(page)\n",
    "        image.save(f\"C:/Users/asus/Desktop/Problem 2/Tamil_Nadu/Pages/{image_prefix}_{page_number + 1}.png\")\n",
    "\n",
    "def page_to_image(page):\n",
    "    xObject = page['/Resources']['/XObject'].get_object()\n",
    "    for obj in xObject:\n",
    "        if xObject[obj]['/Subtype'] == '/Image':\n",
    "            img = xObject[obj]\n",
    "            return Image.frombytes('RGB', [img['/Width'], img['/Height']], img.get_data())"
   ]
  },
  {
   "cell_type": "code",
   "execution_count": 3,
   "id": "50719c7d-8b89-4ac1-aaeb-b2a14d38bcf4",
   "metadata": {},
   "outputs": [],
   "source": [
    "pdf_file = 'Tamil Nadu.pdf'\n",
    "image_prefix = 'page'\n",
    "pdf_to_images(pdf_file, image_prefix)"
   ]
  },
  {
   "cell_type": "markdown",
   "id": "7d522bf0-e821-41b3-ada5-151c20d0de92",
   "metadata": {},
   "source": [
    "## $\\text{Extract grid of voters from all pages}$\n",
    "---"
   ]
  },
  {
   "cell_type": "code",
   "execution_count": 4,
   "id": "26fc3385-bcb1-4ab6-87af-de9c3e3dc8b8",
   "metadata": {},
   "outputs": [],
   "source": [
    "directory = 'C:/Users/asus/Desktop/Problem 2/Tamil_Nadu/Pages'\n",
    "paths = []\n",
    "\n",
    "for filename in os.listdir(directory):\n",
    "    if filename.endswith('.png') or filename.endswith('.jpg') or filename.endswith('.jpeg'):\n",
    "        \n",
    "        file_path = os.path.join(directory, filename)\n",
    "        paths.append(file_path)\n",
    "\n",
    "# for path in image_paths:\n",
    "#     print(path)"
   ]
  },
  {
   "cell_type": "code",
   "execution_count": 5,
   "id": "236f26ca-6de9-4131-8501-69b681124f16",
   "metadata": {},
   "outputs": [],
   "source": [
    "image_paths = [path for path in paths if not any(substring in path for substring in ['page_1.png', 'page_2.png', 'page_30.png'])]"
   ]
  },
  {
   "cell_type": "code",
   "execution_count": 6,
   "id": "9fecbb36-340c-40a0-a8f5-d4659c87168c",
   "metadata": {},
   "outputs": [
    {
     "data": {
      "text/plain": [
       "['C:/Users/asus/Desktop/Problem 2/Tamil_Nadu/Pages\\\\page_10.png',\n",
       " 'C:/Users/asus/Desktop/Problem 2/Tamil_Nadu/Pages\\\\page_11.png',\n",
       " 'C:/Users/asus/Desktop/Problem 2/Tamil_Nadu/Pages\\\\page_12.png',\n",
       " 'C:/Users/asus/Desktop/Problem 2/Tamil_Nadu/Pages\\\\page_13.png',\n",
       " 'C:/Users/asus/Desktop/Problem 2/Tamil_Nadu/Pages\\\\page_14.png',\n",
       " 'C:/Users/asus/Desktop/Problem 2/Tamil_Nadu/Pages\\\\page_15.png',\n",
       " 'C:/Users/asus/Desktop/Problem 2/Tamil_Nadu/Pages\\\\page_16.png',\n",
       " 'C:/Users/asus/Desktop/Problem 2/Tamil_Nadu/Pages\\\\page_17.png',\n",
       " 'C:/Users/asus/Desktop/Problem 2/Tamil_Nadu/Pages\\\\page_18.png',\n",
       " 'C:/Users/asus/Desktop/Problem 2/Tamil_Nadu/Pages\\\\page_19.png',\n",
       " 'C:/Users/asus/Desktop/Problem 2/Tamil_Nadu/Pages\\\\page_20.png',\n",
       " 'C:/Users/asus/Desktop/Problem 2/Tamil_Nadu/Pages\\\\page_21.png',\n",
       " 'C:/Users/asus/Desktop/Problem 2/Tamil_Nadu/Pages\\\\page_22.png',\n",
       " 'C:/Users/asus/Desktop/Problem 2/Tamil_Nadu/Pages\\\\page_23.png',\n",
       " 'C:/Users/asus/Desktop/Problem 2/Tamil_Nadu/Pages\\\\page_24.png',\n",
       " 'C:/Users/asus/Desktop/Problem 2/Tamil_Nadu/Pages\\\\page_25.png',\n",
       " 'C:/Users/asus/Desktop/Problem 2/Tamil_Nadu/Pages\\\\page_26.png',\n",
       " 'C:/Users/asus/Desktop/Problem 2/Tamil_Nadu/Pages\\\\page_27.png',\n",
       " 'C:/Users/asus/Desktop/Problem 2/Tamil_Nadu/Pages\\\\page_28.png',\n",
       " 'C:/Users/asus/Desktop/Problem 2/Tamil_Nadu/Pages\\\\page_29.png',\n",
       " 'C:/Users/asus/Desktop/Problem 2/Tamil_Nadu/Pages\\\\page_3.png',\n",
       " 'C:/Users/asus/Desktop/Problem 2/Tamil_Nadu/Pages\\\\page_4.png',\n",
       " 'C:/Users/asus/Desktop/Problem 2/Tamil_Nadu/Pages\\\\page_5.png',\n",
       " 'C:/Users/asus/Desktop/Problem 2/Tamil_Nadu/Pages\\\\page_6.png',\n",
       " 'C:/Users/asus/Desktop/Problem 2/Tamil_Nadu/Pages\\\\page_7.png',\n",
       " 'C:/Users/asus/Desktop/Problem 2/Tamil_Nadu/Pages\\\\page_8.png',\n",
       " 'C:/Users/asus/Desktop/Problem 2/Tamil_Nadu/Pages\\\\page_9.png']"
      ]
     },
     "execution_count": 6,
     "metadata": {},
     "output_type": "execute_result"
    }
   ],
   "source": [
    "image_paths"
   ]
  },
  {
   "cell_type": "code",
   "execution_count": 7,
   "id": "f98a4e93-1a69-4bcb-b873-e72d04b7e04b",
   "metadata": {},
   "outputs": [
    {
     "data": {
      "text/plain": [
       "27"
      ]
     },
     "execution_count": 7,
     "metadata": {},
     "output_type": "execute_result"
    }
   ],
   "source": [
    "len(image_paths)"
   ]
  },
  {
   "cell_type": "code",
   "execution_count": 8,
   "id": "757d6029-cd58-4323-9881-5d09f5c7a4de",
   "metadata": {},
   "outputs": [],
   "source": [
    "def voters_extraction(list_of_images):\n",
    "    ct = 0\n",
    "    for img in list_of_images:\n",
    "        image = cv2.imread(img)\n",
    "        gray = cv2.cvtColor(image, cv2.COLOR_BGR2GRAY) #enhance for better text detection\n",
    "        text = pts.image_to_string(gray)\n",
    "        \n",
    "        _, binary_mask = cv2.threshold(gray, 128, 255, cv2.THRESH_BINARY_INV) #threshold-mask\n",
    "        contours, _ = cv2.findContours(binary_mask, cv2.RETR_EXTERNAL, cv2.CHAIN_APPROX_SIMPLE) #find contours\n",
    "        \n",
    "        mask = np.zeros_like(image) #mask for large box\n",
    "        \n",
    "        for contour in contours:\n",
    "            x, y, w, h = cv2.boundingRect(contour)\n",
    "            min_area_threshold = 1000\n",
    "            if cv2.contourArea(contour) > min_area_threshold:\n",
    "                cv2.rectangle(mask, (x, y), (x + w, y + h), (255, 255, 255), thickness=cv2.FILLED)\n",
    "        \n",
    "        \n",
    "        result = cv2.bitwise_and(image, mask) #apply mask\n",
    "        \n",
    "        # cv2.imshow('Result with Large Rectangles', result)\n",
    "        # cv2.waitKey(0)\n",
    "        # cv2.destroyAllWindows()\n",
    "        ct+=1\n",
    "        \n",
    "        cv2.imwrite(f'C:/Users/asus/Desktop/Problem 2/Tamil_Nadu/Voters/voters_{ct}.png', result)\n"
   ]
  },
  {
   "cell_type": "code",
   "execution_count": 9,
   "id": "31d876cf-c31c-49d1-b624-cde2f22e5d83",
   "metadata": {},
   "outputs": [],
   "source": [
    "# voters_extraction(image_paths)"
   ]
  },
  {
   "cell_type": "markdown",
   "id": "7f92573f-d74c-473a-9f49-b29a49b8aa9a",
   "metadata": {},
   "source": [
    "C:/Users/asus/Desktop/Problem 2/Tamil_Nadu/Voters/voters_1.png"
   ]
  },
  {
   "cell_type": "code",
   "execution_count": 10,
   "id": "be2adacc-7ed2-49e9-b8bb-68d768791a35",
   "metadata": {},
   "outputs": [],
   "source": [
    "def remove_large_black_padding(image_path, threshold=10):\n",
    "    \n",
    "    img = cv2.imread(image_path)\n",
    "    gray = cv2.cvtColor(img, cv2.COLOR_BGR2GRAY)\n",
    "\n",
    "    horizontal_projection = np.sum(gray, axis=1)\n",
    "    vertical_projection = np.sum(gray, axis=0)\n",
    "\n",
    "    non_black_rows = np.where(horizontal_projection > threshold)[0]\n",
    "    non_black_cols = np.where(vertical_projection > threshold)[0]\n",
    "\n",
    "    if non_black_rows.size > 0 and non_black_cols.size > 0:\n",
    "        top, bottom = non_black_rows[0], non_black_rows[-1]\n",
    "        left, right = non_black_cols[0], non_black_cols[-1]\n",
    "        cropped_img = img[top:bottom+1, left:right+1]\n",
    "\n",
    "        return cropped_img\n",
    "    else:\n",
    "        return img\n",
    "\n",
    "# example usage\n",
    "# input_image_path = 'C:/Users/asus/Desktop/Problem 2/Tamil_Nadu/Voters/voters_2.png'\n",
    "# output_image = remove_large_black_padding(input_image_path)\n",
    "\n",
    "# cv2.imwrite('output_image.png', output_image)\n"
   ]
  },
  {
   "cell_type": "markdown",
   "id": "7c360419-1aff-42a1-819f-9c12bab5b2c5",
   "metadata": {},
   "source": [
    "Store the path of voters in a list"
   ]
  },
  {
   "cell_type": "code",
   "execution_count": 11,
   "id": "aa43569e-a6c7-496e-a775-521ce299c3e0",
   "metadata": {},
   "outputs": [],
   "source": [
    "directory = 'C:/Users/asus/Desktop/Problem 2/Tamil_Nadu/Voters'\n",
    "voter_paths = []\n",
    "\n",
    "for filename in os.listdir(directory):\n",
    "    if filename.endswith('.png') or filename.endswith('.jpg') or filename.endswith('.jpeg'):\n",
    "        \n",
    "        file_path = os.path.join(directory, filename)\n",
    "        voter_paths.append(file_path)"
   ]
  },
  {
   "cell_type": "code",
   "execution_count": 12,
   "id": "b4743f04-4d2a-4a41-9a6e-ba28a61701dd",
   "metadata": {},
   "outputs": [
    {
     "data": {
      "text/plain": [
       "['C:/Users/asus/Desktop/Problem 2/Tamil_Nadu/Voters\\\\voters_1.png',\n",
       " 'C:/Users/asus/Desktop/Problem 2/Tamil_Nadu/Voters\\\\voters_10.png',\n",
       " 'C:/Users/asus/Desktop/Problem 2/Tamil_Nadu/Voters\\\\voters_11.png',\n",
       " 'C:/Users/asus/Desktop/Problem 2/Tamil_Nadu/Voters\\\\voters_12.png',\n",
       " 'C:/Users/asus/Desktop/Problem 2/Tamil_Nadu/Voters\\\\voters_13.png',\n",
       " 'C:/Users/asus/Desktop/Problem 2/Tamil_Nadu/Voters\\\\voters_14.png',\n",
       " 'C:/Users/asus/Desktop/Problem 2/Tamil_Nadu/Voters\\\\voters_15.png',\n",
       " 'C:/Users/asus/Desktop/Problem 2/Tamil_Nadu/Voters\\\\voters_16.png',\n",
       " 'C:/Users/asus/Desktop/Problem 2/Tamil_Nadu/Voters\\\\voters_17.png',\n",
       " 'C:/Users/asus/Desktop/Problem 2/Tamil_Nadu/Voters\\\\voters_18.png',\n",
       " 'C:/Users/asus/Desktop/Problem 2/Tamil_Nadu/Voters\\\\voters_19.png',\n",
       " 'C:/Users/asus/Desktop/Problem 2/Tamil_Nadu/Voters\\\\voters_2.png',\n",
       " 'C:/Users/asus/Desktop/Problem 2/Tamil_Nadu/Voters\\\\voters_20.png',\n",
       " 'C:/Users/asus/Desktop/Problem 2/Tamil_Nadu/Voters\\\\voters_21.png',\n",
       " 'C:/Users/asus/Desktop/Problem 2/Tamil_Nadu/Voters\\\\voters_22.png',\n",
       " 'C:/Users/asus/Desktop/Problem 2/Tamil_Nadu/Voters\\\\voters_23.png',\n",
       " 'C:/Users/asus/Desktop/Problem 2/Tamil_Nadu/Voters\\\\voters_24.png',\n",
       " 'C:/Users/asus/Desktop/Problem 2/Tamil_Nadu/Voters\\\\voters_25.png',\n",
       " 'C:/Users/asus/Desktop/Problem 2/Tamil_Nadu/Voters\\\\voters_26.png',\n",
       " 'C:/Users/asus/Desktop/Problem 2/Tamil_Nadu/Voters\\\\voters_27.png',\n",
       " 'C:/Users/asus/Desktop/Problem 2/Tamil_Nadu/Voters\\\\voters_3.png',\n",
       " 'C:/Users/asus/Desktop/Problem 2/Tamil_Nadu/Voters\\\\voters_4.png',\n",
       " 'C:/Users/asus/Desktop/Problem 2/Tamil_Nadu/Voters\\\\voters_5.png',\n",
       " 'C:/Users/asus/Desktop/Problem 2/Tamil_Nadu/Voters\\\\voters_6.png',\n",
       " 'C:/Users/asus/Desktop/Problem 2/Tamil_Nadu/Voters\\\\voters_7.png',\n",
       " 'C:/Users/asus/Desktop/Problem 2/Tamil_Nadu/Voters\\\\voters_8.png',\n",
       " 'C:/Users/asus/Desktop/Problem 2/Tamil_Nadu/Voters\\\\voters_9.png']"
      ]
     },
     "execution_count": 12,
     "metadata": {},
     "output_type": "execute_result"
    }
   ],
   "source": [
    "voter_paths"
   ]
  },
  {
   "cell_type": "code",
   "execution_count": 13,
   "id": "4bc669e6-062d-442b-87d4-813c502fa97d",
   "metadata": {},
   "outputs": [],
   "source": [
    "# ct = 0\n",
    "# for path in voter_paths:\n",
    "#     output_image = remove_large_black_padding(path)\n",
    "#     ct+=1\n",
    "#     cv2.imwrite(f'C:/Users/asus/Desktop/Problem 2/Tamil_Nadu/Voters_Absolute/voter_abs_{ct}.png', output_image)"
   ]
  },
  {
   "cell_type": "markdown",
   "id": "1acbfe0f-389e-42d4-a4ad-dedf3f8a84ba",
   "metadata": {},
   "source": [
    "Check if the image is completely back, so as to skip it"
   ]
  },
  {
   "cell_type": "code",
   "execution_count": 14,
   "id": "4f5c06cf-c23f-46cc-9865-ccd993dc2806",
   "metadata": {},
   "outputs": [],
   "source": [
    "def is_completely_black(pil_image):\n",
    "    img_array = np.array(pil_image)\n",
    "    gray = np.array(pil_image.convert('L'))\n",
    "    if np.all(gray == 0):\n",
    "        return True\n",
    "    else:\n",
    "        return False"
   ]
  },
  {
   "cell_type": "code",
   "execution_count": 15,
   "id": "12145f4b-c7e1-4ed3-8922-10ececaa41a7",
   "metadata": {},
   "outputs": [],
   "source": [
    "folder_path = 'C:/Users/asus/Desktop/Problem 2/Tamil_Nadu/Voters_Absolute'\n",
    "files = os.listdir(folder_path)\n",
    "file_count = len(files)"
   ]
  },
  {
   "cell_type": "code",
   "execution_count": 16,
   "id": "b5772faa-a1db-487d-82ab-6ec367859b84",
   "metadata": {},
   "outputs": [
    {
     "data": {
      "text/plain": [
       "27"
      ]
     },
     "execution_count": 16,
     "metadata": {},
     "output_type": "execute_result"
    }
   ],
   "source": [
    "file_count"
   ]
  },
  {
   "cell_type": "code",
   "execution_count": 17,
   "id": "0254b301-530b-4a7d-bafe-5922915c986c",
   "metadata": {},
   "outputs": [],
   "source": [
    "imgs = []\n",
    "skip = False\n",
    "ct = 0\n",
    "for x in range(file_count):\n",
    "    voters = Image.open(f'C:/Users/asus/Desktop/Problem 2/Tamil_Nadu/Voters_Absolute/voter_abs_{(x+1)}.png')\n",
    "    for row in range(10):\n",
    "        for col in range(3):\n",
    "            box = (375*col, 150*row, 375*(col+1), 150*(row+1))\n",
    "            voter = voters.crop(box)\n",
    "            if(is_completely_black(voter)):\n",
    "                skip==True\n",
    "                break\n",
    "            else:\n",
    "                imgs.append(voters.crop(box))\n",
    "        if skip:\n",
    "            break\n",
    "    if skip:\n",
    "        break"
   ]
  },
  {
   "cell_type": "code",
   "execution_count": 18,
   "id": "e46c821c-9cf3-456a-8461-5c47c73d6675",
   "metadata": {},
   "outputs": [
    {
     "data": {
      "text/plain": [
       "706"
      ]
     },
     "execution_count": 18,
     "metadata": {},
     "output_type": "execute_result"
    }
   ],
   "source": [
    "len(imgs)"
   ]
  },
  {
   "cell_type": "code",
   "execution_count": 19,
   "id": "ef98a8e6-2e12-4e71-ac5c-d91345c2c90f",
   "metadata": {},
   "outputs": [
    {
     "data": {
      "image/png": "[encoded data removed]",
      "text/plain": [
       "<PIL.Image.Image image mode=RGB size=375x150 at 0x1C9627752B0>"
      ]
     },
     "execution_count": 19,
     "metadata": {},
     "output_type": "execute_result"
    }
   ],
   "source": [
    "imgs[705]"
   ]
  },
  {
   "cell_type": "code",
   "execution_count": 20,
   "id": "60d4e5ec-8396-48e1-987b-6434bcfbe61b",
   "metadata": {},
   "outputs": [
    {
     "data": {
      "image/png": "[encoded data removed]",
      "text/plain": [
       "<PIL.Image.Image image mode=RGB size=375x150 at 0x1C961177790>"
      ]
     },
     "execution_count": 20,
     "metadata": {},
     "output_type": "execute_result"
    }
   ],
   "source": [
    "imgs[433]"
   ]
  },
  {
   "cell_type": "code",
   "execution_count": 21,
   "id": "9188e783-058f-4bfb-82f2-a8e71b40e9a7",
   "metadata": {},
   "outputs": [],
   "source": [
    "def voters_to_folder(image_list, folder_name='vts'):\n",
    "    if not os.path.exists(folder_name):\n",
    "        os.makedirs(folder_name)\n",
    "\n",
    "    for i, img in enumerate(image_list):\n",
    "        filename = os.path.join(folder_name, f'{folder_name}_{i}.png')\n",
    "        img.save(filename)\n",
    "\n",
    "\n",
    "voters_to_folder(imgs)"
   ]
  },
  {
   "cell_type": "code",
   "execution_count": 22,
   "id": "d744260e-beab-406b-84af-7484df7386f0",
   "metadata": {},
   "outputs": [],
   "source": [
    "# def has_no_text(image):\n",
    "#     text = pts.image_to_string(image)\n",
    "#     return not text.strip()\n",
    "\n",
    "# def imgs_no_text(image_list):\n",
    "#     no_text_indices = []\n",
    "#     for i, img in enumerate(image_list):\n",
    "#         if has_no_text(img):\n",
    "#             no_text_indices.append(i)\n",
    "#     return no_text_indices\n",
    "\n",
    "\n",
    "# result_indices = imgs_no_text(imgs)"
   ]
  },
  {
   "cell_type": "code",
   "execution_count": 23,
   "id": "e46dcbf2-5408-43ad-8654-6fcf9cdf1056",
   "metadata": {},
   "outputs": [],
   "source": [
    "# len(result_indices) # should result in 11 for Tamil Nadu.pdf"
   ]
  },
  {
   "cell_type": "code",
   "execution_count": 24,
   "id": "33a58fef-8973-4563-bce0-6ea5c60e422a",
   "metadata": {},
   "outputs": [],
   "source": [
    "# result_indices"
   ]
  },
  {
   "cell_type": "code",
   "execution_count": 25,
   "id": "0c1b77b8-bc37-4f94-aeba-557acd0724f5",
   "metadata": {},
   "outputs": [],
   "source": [
    "result_indices = [112, 220, 221, 222, 223, 294, 302, 303, 304, 305, 306]"
   ]
  },
  {
   "cell_type": "code",
   "execution_count": 26,
   "id": "020a5933-1748-4ef1-bdb9-a8df7bb2c957",
   "metadata": {},
   "outputs": [
    {
     "name": "stdout",
     "output_type": "stream",
     "text": [
      "695\n"
     ]
    }
   ],
   "source": [
    "imgs = [imgs[i] for i in range(len(imgs)) if i not in result_indices]\n",
    "\n",
    "print(len(imgs))\n"
   ]
  },
  {
   "cell_type": "markdown",
   "id": "137248e7-fe28-439c-8139-93b822a91a2c",
   "metadata": {},
   "source": [
    "Total no. of voters = 695"
   ]
  },
  {
   "cell_type": "markdown",
   "id": "f0aafa06-8504-480a-93f3-383dc2466f96",
   "metadata": {},
   "source": [
    "## $\\text{5 liners & 4 liners}$\n",
    "---\n",
    "Upon observation, there are two types of voter infos, 5 liners and 4 liners"
   ]
  },
  {
   "cell_type": "code",
   "execution_count": 27,
   "id": "d23952e7-4b19-431e-93ab-9a138ece49a1",
   "metadata": {},
   "outputs": [
    {
     "data": {
      "image/png": "[encoded data removed]",
      "text/plain": [
       "<PIL.Image.Image image mode=RGB size=375x150 at 0x1C9611AA940>"
      ]
     },
     "execution_count": 27,
     "metadata": {},
     "output_type": "execute_result"
    }
   ],
   "source": [
    "imgs[616]"
   ]
  },
  {
   "cell_type": "code",
   "execution_count": 28,
   "id": "cc58e5ad-1b73-447c-beb9-15b8fbadcd00",
   "metadata": {},
   "outputs": [
    {
     "name": "stdout",
     "output_type": "stream",
     "text": [
      "Image size for 5 liners: 375 x 150\n"
     ]
    }
   ],
   "source": [
    "print(f\"Image size for 5 liners: {imgs[616].width} x {imgs[616].height}\")"
   ]
  },
  {
   "cell_type": "code",
   "execution_count": 29,
   "id": "524a203b-7dcb-4728-9a1c-51b4ae196ca5",
   "metadata": {},
   "outputs": [
    {
     "data": {
      "image/png": "[encoded data removed]",
      "text/plain": [
       "<PIL.Image.Image image mode=RGB size=375x150 at 0x1C9625D70A0>"
      ]
     },
     "execution_count": 29,
     "metadata": {},
     "output_type": "execute_result"
    }
   ],
   "source": [
    "imgs[56]"
   ]
  },
  {
   "cell_type": "code",
   "execution_count": 30,
   "id": "d81f5226-3f7e-4276-be8d-4b590e3022cf",
   "metadata": {},
   "outputs": [
    {
     "name": "stdout",
     "output_type": "stream",
     "text": [
      "Image size for 4 liners: 375 x 150\n"
     ]
    }
   ],
   "source": [
    "print(f\"Image size for 4 liners: {imgs[56].width} x {imgs[56].height}\")"
   ]
  },
  {
   "cell_type": "markdown",
   "id": "71baba05-b7fe-4557-b7b9-30a053456eaf",
   "metadata": {},
   "source": [
    "Coordinates for 4 liners - `imgs[56]`"
   ]
  },
  {
   "cell_type": "code",
   "execution_count": 31,
   "id": "1dcf6911-6e02-4d3c-a86a-303812c7bb41",
   "metadata": {},
   "outputs": [],
   "source": [
    "# bounding_box = (50, 100, 1185, 1595) # w.r.t. page\n",
    "# voter_box = (0, 0, 375, 150) # w.r.t. bounding_box\n",
    "# w.r.t voter_box\n",
    "id_box = (250,0,375,25)  \n",
    "info_box = (0,25,270,140)\n",
    "age_box = (0,90,100,125)\n",
    "home_box = (0, 70, 150, 95)\n",
    "name_box = (0,25,270,50)\n",
    "guardian_box = (0,45,250,73)\n",
    "gender_box = (95, 90, 250, 125)"
   ]
  },
  {
   "cell_type": "markdown",
   "id": "7f981be9-e8db-4689-a82f-7b1596448fd0",
   "metadata": {},
   "source": [
    "Coordinates for 5 liners - `imgs[616]`"
   ]
  },
  {
   "cell_type": "code",
   "execution_count": 32,
   "id": "ae35c404-259f-4808-9a3f-dbf14ea0b4cd",
   "metadata": {},
   "outputs": [],
   "source": [
    "# id_box = (250,0,375,25)  \n",
    "# info_box = (0,25,270,140)\n",
    "age_box_alt = (0,110,100,140)\n",
    "home_box_alt = (0, 85, 150, 115)\n",
    "# name_box = (0,25,270,50)\n",
    "guardian_box_alt = (0,45,250,95)\n",
    "gender_box_alt = (90,110,250,140)"
   ]
  },
  {
   "cell_type": "code",
   "execution_count": 33,
   "id": "bdafe16c-5229-476b-91da-7f847f3456c6",
   "metadata": {},
   "outputs": [],
   "source": [
    "liners_4 = imgs[56].crop(info_box)\n",
    "liners_5 = imgs[616].crop(info_box)"
   ]
  },
  {
   "cell_type": "code",
   "execution_count": 34,
   "id": "1fe5352b-60d9-4474-ad65-0c8861c1c2a6",
   "metadata": {},
   "outputs": [
    {
     "data": {
      "image/png": "[encoded data removed]",
      "text/plain": [
       "<PIL.Image.Image image mode=RGB size=270x115 at 0x1C96278F700>"
      ]
     },
     "execution_count": 34,
     "metadata": {},
     "output_type": "execute_result"
    }
   ],
   "source": [
    "liners_5"
   ]
  },
  {
   "cell_type": "code",
   "execution_count": 35,
   "id": "8bf4d9ae-dd10-4992-9f0e-0b7e5285bfc9",
   "metadata": {},
   "outputs": [],
   "source": [
    "liners_4_txt = pts.image_to_string(liners_4, lang = 'tam')\n",
    "liners_5_txt = pts.image_to_string(liners_5, lang = 'tam')"
   ]
  },
  {
   "cell_type": "code",
   "execution_count": 36,
   "id": "5705f2b8-f485-4729-ad6a-a94bab28b54b",
   "metadata": {},
   "outputs": [
    {
     "data": {
      "text/plain": [
       "'அபயர: சுமரஷகுமார -\\nதந்\\u200cைத பெயர்\\u200c: முனிசேகர்\\u200c -\\nவீட்டு எண்\\u200c: ௨\\n\\nவயது: % பாலினம்\\u200c : ஆண்\\u200c\\n'"
      ]
     },
     "execution_count": 36,
     "metadata": {},
     "output_type": "execute_result"
    }
   ],
   "source": [
    "liners_4_txt"
   ]
  },
  {
   "cell_type": "code",
   "execution_count": 37,
   "id": "c0800a9d-9630-422a-9fb8-dd59f5b3aaa3",
   "metadata": {},
   "outputs": [
    {
     "data": {
      "text/plain": [
       "'அபயர: முயைமமா -\\nகணவர்\\u200c பெயர்\\u200c:\\nசெங்கல்வராயன்\\u200c -\\n\\nவீட்டு எண்\\u200c: 72\\n\\nவயது: ௨ பாலினம்\\u200c : பெண்\\u200c\\n'"
      ]
     },
     "execution_count": 37,
     "metadata": {},
     "output_type": "execute_result"
    }
   ],
   "source": [
    "liners_5_txt"
   ]
  },
  {
   "cell_type": "code",
   "execution_count": 38,
   "id": "b3cc5327-c3b2-45d4-bbbb-48b94a0c0fcf",
   "metadata": {},
   "outputs": [
    {
     "data": {
      "text/plain": [
       "['அபயர: சுமரஷகுமார -',\n",
       " 'தந்\\u200cைத பெயர்\\u200c: முனிசேகர்\\u200c -',\n",
       " 'வீட்டு எண்\\u200c: ௨',\n",
       " 'வயது: % பாலினம்\\u200c : ஆண்\\u200c']"
      ]
     },
     "execution_count": 38,
     "metadata": {},
     "output_type": "execute_result"
    }
   ],
   "source": [
    "[x for x in liners_4_txt.split('\\n') if x not in '']"
   ]
  },
  {
   "cell_type": "code",
   "execution_count": 39,
   "id": "bad796e6-dc89-40ec-bf15-2ff9d44694f2",
   "metadata": {},
   "outputs": [
    {
     "data": {
      "text/plain": [
       "4"
      ]
     },
     "execution_count": 39,
     "metadata": {},
     "output_type": "execute_result"
    }
   ],
   "source": [
    "len([x for x in liners_4_txt.split('\\n') if x not in ''])"
   ]
  },
  {
   "cell_type": "code",
   "execution_count": 40,
   "id": "6d2bbf68-2f70-4422-878f-410dbe373d03",
   "metadata": {},
   "outputs": [],
   "source": [
    "translator = Translator()"
   ]
  },
  {
   "cell_type": "markdown",
   "id": "93af6223-7366-4db0-9684-a7243195fb38",
   "metadata": {},
   "source": [
    "Split `imgs` into `imgs_4` and `imgs_5` to seperate 4 liners and 5 liners. Keep 2 lists of them - `idx_5` & `idx_4`"
   ]
  },
  {
   "cell_type": "code",
   "execution_count": 41,
   "id": "fa8192ba-c7c5-4734-9ef7-983654edf288",
   "metadata": {},
   "outputs": [],
   "source": [
    "imgs_4 = []\n",
    "imgs_5 = []\n",
    "imgs_misc = []\n",
    "idx_4 = []\n",
    "idx_5 = []\n",
    "idx_misc = []\n",
    "\n",
    "for x in range(len(imgs)):\n",
    "    info_img = imgs[x].crop(info_box)\n",
    "    text = pts.image_to_string(info_img, lang = 'tam')\n",
    "    length = len([i for i in text.split('\\n') if i not in ''])\n",
    "    if length==4:\n",
    "        imgs_4.append(imgs[x])\n",
    "        idx_4.append(x)\n",
    "    elif length==5:\n",
    "        imgs_5.append(imgs[x])\n",
    "        idx_5.append(x)\n",
    "    else:\n",
    "        imgs_misc.append(imgs[x])\n",
    "        idx_misc.append(x)"
   ]
  },
  {
   "cell_type": "code",
   "execution_count": 42,
   "id": "c100e8f6-e834-4a4a-bf96-b0a54439fe33",
   "metadata": {},
   "outputs": [
    {
     "data": {
      "text/plain": [
       "660"
      ]
     },
     "execution_count": 42,
     "metadata": {},
     "output_type": "execute_result"
    }
   ],
   "source": [
    "len(imgs_4)"
   ]
  },
  {
   "cell_type": "code",
   "execution_count": 43,
   "id": "cd95a9a8-240d-4fa1-9446-8266b20fba33",
   "metadata": {},
   "outputs": [
    {
     "data": {
      "text/plain": [
       "35"
      ]
     },
     "execution_count": 43,
     "metadata": {},
     "output_type": "execute_result"
    }
   ],
   "source": [
    "len(imgs_5)"
   ]
  },
  {
   "cell_type": "code",
   "execution_count": 44,
   "id": "be1594db-404f-4437-90bc-e75236efec95",
   "metadata": {},
   "outputs": [
    {
     "data": {
      "text/plain": [
       "0"
      ]
     },
     "execution_count": 44,
     "metadata": {},
     "output_type": "execute_result"
    }
   ],
   "source": [
    "len(imgs_misc)"
   ]
  },
  {
   "cell_type": "code",
   "execution_count": 45,
   "id": "22fa7b35-f895-4172-acf8-f5e8864c6e47",
   "metadata": {},
   "outputs": [
    {
     "data": {
      "text/plain": [
       "[11, 42, 90, 104, 117, 121, 122, 125, 131, 157]"
      ]
     },
     "execution_count": 45,
     "metadata": {},
     "output_type": "execute_result"
    }
   ],
   "source": [
    "idx_5[:10]"
   ]
  },
  {
   "cell_type": "code",
   "execution_count": 46,
   "id": "467e623b-0420-4e64-8259-aa75d5f53ce9",
   "metadata": {},
   "outputs": [
    {
     "data": {
      "image/png": "[encoded data removed]",
      "text/plain": [
       "<PIL.Image.Image image mode=RGB size=375x150 at 0x1C962752C40>"
      ]
     },
     "execution_count": 46,
     "metadata": {},
     "output_type": "execute_result"
    }
   ],
   "source": [
    "imgs[104]"
   ]
  },
  {
   "cell_type": "markdown",
   "id": "95d41403-1ddb-49af-aa66-9ab7a982cf34",
   "metadata": {},
   "source": [
    "### $\\text{Functions}$"
   ]
  },
  {
   "cell_type": "code",
   "execution_count": 50,
   "id": "805e8d47-de5f-41c9-a15b-8f44d0df5cd9",
   "metadata": {},
   "outputs": [],
   "source": [
    "def extract_voter_id(image, coords):\n",
    "    id_img = image.crop(coords)\n",
    "    voter_id = pts.image_to_string(id_img)[:-1]\n",
    "    return voter_id\n",
    "\n",
    "def extract_voter_name(image, coords):\n",
    "    name_img = image.crop(coords)\n",
    "    text = pts.image_to_string(name_img, lang = 'tam')\n",
    "    # text = re.sub('\\u200c', '', text)\n",
    "    # parts = text.split(':')\n",
    "    tx = translator.translate(text, src = 'ta', dest = 'en')\n",
    "    voter_name = re.sub('Name:','',tx.text).strip()\n",
    "    return voter_name\n",
    "\n",
    "def extract_voter_guardian(image, coords):\n",
    "    guardian_img = image.crop(coords)\n",
    "    text = pts.image_to_string(guardian_img, lang = 'tam')\n",
    "    tx = translator.translate(text, src = 'ta', dest = 'en')\n",
    "    voter_guardian = tx.text.split(':')[1].strip()\n",
    "    return voter_guardian\n",
    "\n",
    "def extract_voter_home(image, coords):\n",
    "    home_img = image.crop(coords)\n",
    "    text = pts.image_to_string(home_img, lang = 'tam')\n",
    "    tx = translator.translate(text, src = 'ta', dest = 'en')\n",
    "    # voter_home = re.findall(r'\\b\\d{2,}\\b', tx.text)\n",
    "    voter_home = re.findall(r'\\d+', tx.text)\n",
    "    return voter_home[0] if voter_home else '-'\n",
    "    # return voter_age\n",
    "\n",
    "def extract_voter_age(image, coords):\n",
    "    age_img = image.crop(coords)\n",
    "    # voter_age = pts.image_to_string(age_img)\n",
    "    voter_age = int(re.findall(r'\\d+', pts.image_to_string(age_img))[0])\n",
    "    return str(voter_age)\n",
    "\n",
    "def extract_voter_gender(image, coords):\n",
    "    gender_img = image.crop(coords)\n",
    "    text = pts.image_to_string(gender_img, lang = 'tam')\n",
    "    tx = translator.translate(text, src = 'ta', dest = 'en')\n",
    "    voter_gender = re.sub('Gender:', '', tx.text).strip()\n",
    "    return voter_gender"
   ]
  },
  {
   "cell_type": "code",
   "execution_count": 51,
   "id": "f1de23cc-e85c-40d1-a4aa-48db2fd02a55",
   "metadata": {},
   "outputs": [],
   "source": [
    "def image_to_info_4(image):\n",
    "    data = {}\n",
    "    data['Voter ID'] = extract_voter_id(image, id_box)\n",
    "    data['Name'] = extract_voter_name(image, name_box)\n",
    "    data['Guardian Name'] = extract_voter_guardian(image, guardian_box)\n",
    "    data['Home Number'] = extract_voter_home(image, home_box)\n",
    "    data['Age'] = extract_voter_age(image, age_box)\n",
    "    data['Gender'] = extract_voter_gender(image, gender_box)\n",
    "    \n",
    "    return data"
   ]
  },
  {
   "cell_type": "code",
   "execution_count": 52,
   "id": "641d56fb-c993-42c9-95d0-010e2229ce88",
   "metadata": {},
   "outputs": [],
   "source": [
    "def image_to_info_5(image):\n",
    "    data = {}\n",
    "    data['Voter ID'] = extract_voter_id(image, id_box)\n",
    "    data['Name'] = extract_voter_name(image, name_box)\n",
    "    data['Guardian Name'] = extract_voter_guardian(image, guardian_box_alt)\n",
    "    data['Home Number'] = extract_voter_home(image, home_box_alt)\n",
    "    data['Age'] = extract_voter_age(image, age_box_alt)\n",
    "    data['Gender'] = extract_voter_gender(image, gender_box_alt)\n",
    "    \n",
    "    return data"
   ]
  },
  {
   "cell_type": "code",
   "execution_count": 70,
   "id": "f391f056-aed7-4c99-87b1-700479cb17bf",
   "metadata": {},
   "outputs": [
    {
     "data": {
      "text/plain": [
       "{'Voter ID': 'HMV2273506',\n",
       " 'Name': '| Maramala -',\n",
       " 'Guardian Name': 'Nagaraj -',\n",
       " 'Home Number': '115',\n",
       " 'Age': '47',\n",
       " 'Gender': 'Female'}"
      ]
     },
     "execution_count": 70,
     "metadata": {},
     "output_type": "execute_result"
    }
   ],
   "source": [
    "image_to_info_4(imgs_4[7])"
   ]
  },
  {
   "cell_type": "code",
   "execution_count": 69,
   "id": "b64bc8c1-edbb-420f-930b-dea9a5300507",
   "metadata": {},
   "outputs": [
    {
     "data": {
      "image/png": "[encoded data removed]",
      "text/plain": [
       "<PIL.Image.Image image mode=RGB size=375x150 at 0x1C96273ABB0>"
      ]
     },
     "execution_count": 69,
     "metadata": {},
     "output_type": "execute_result"
    }
   ],
   "source": [
    "imgs_4[7]"
   ]
  },
  {
   "cell_type": "code",
   "execution_count": 62,
   "id": "9821aca9-6863-4fe5-ad6b-e37c45aff430",
   "metadata": {},
   "outputs": [
    {
     "data": {
      "text/plain": [
       "{'Voter ID': 'AYR1470020',\n",
       " 'Name': 'Yara: Death -',\n",
       " 'Guardian Name': 'Krishnamurthy -',\n",
       " 'Home Number': '124',\n",
       " 'Age': '47',\n",
       " 'Gender': 'Female'}"
      ]
     },
     "execution_count": 62,
     "metadata": {},
     "output_type": "execute_result"
    }
   ],
   "source": [
    "image_to_info_5(imgs_5[12])"
   ]
  },
  {
   "cell_type": "code",
   "execution_count": 63,
   "id": "7e593ba2-f567-487b-9302-25c1aeebd75a",
   "metadata": {},
   "outputs": [
    {
     "data": {
      "image/png": "[encoded data removed]",
      "text/plain": [
       "<PIL.Image.Image image mode=RGB size=375x150 at 0x1C9625BA2E0>"
      ]
     },
     "execution_count": 63,
     "metadata": {},
     "output_type": "execute_result"
    }
   ],
   "source": [
    "imgs_5[12]"
   ]
  },
  {
   "cell_type": "code",
   "execution_count": 57,
   "id": "301ad637-84e2-4c46-a3ea-3dadece36dd0",
   "metadata": {},
   "outputs": [],
   "source": [
    "df_master = pd.DataFrame()"
   ]
  },
  {
   "cell_type": "code",
   "execution_count": 71,
   "id": "cf3702ec-e2a3-4418-9015-8dffbcb24af6",
   "metadata": {},
   "outputs": [
    {
     "data": {
      "text/plain": [
       "660"
      ]
     },
     "execution_count": 71,
     "metadata": {},
     "output_type": "execute_result"
    }
   ],
   "source": [
    "len(imgs_4)"
   ]
  },
  {
   "cell_type": "code",
   "execution_count": 73,
   "id": "37e70275-7c4e-42d4-b13d-22a2e6cd46b5",
   "metadata": {},
   "outputs": [],
   "source": [
    "fl_4 = 0\n",
    "for img in imgs_4:\n",
    "    try:\n",
    "        record = image_to_info_4(img)\n",
    "    except Exception as e:\n",
    "        fl_4+=1\n",
    "        continue\n",
    "    df_master = df_master.append(record, ignore_index=True)"
   ]
  },
  {
   "cell_type": "code",
   "execution_count": 74,
   "id": "6d75b2e1-ef2f-4dea-aa91-8e6e96684ff2",
   "metadata": {},
   "outputs": [
    {
     "data": {
      "text/plain": [
       "42"
      ]
     },
     "execution_count": 74,
     "metadata": {},
     "output_type": "execute_result"
    }
   ],
   "source": [
    "fl_4"
   ]
  },
  {
   "cell_type": "code",
   "execution_count": 75,
   "id": "d71b3a71-5d6c-49d2-b610-6fd037dea74b",
   "metadata": {},
   "outputs": [
    {
     "data": {
      "text/plain": [
       "35"
      ]
     },
     "execution_count": 75,
     "metadata": {},
     "output_type": "execute_result"
    }
   ],
   "source": [
    "len(imgs_5)"
   ]
  },
  {
   "cell_type": "code",
   "execution_count": 76,
   "id": "8a6a5cc2-0e12-4caa-b4a8-100b8354d30a",
   "metadata": {},
   "outputs": [],
   "source": [
    "fl_5 = 0\n",
    "for img in imgs_5:\n",
    "    try:\n",
    "        record = image_to_info_5(img)\n",
    "    except Exception as e:\n",
    "        fl_5+=1\n",
    "        continue\n",
    "    df_master = df_master.append(record, ignore_index=True)"
   ]
  },
  {
   "cell_type": "code",
   "execution_count": 77,
   "id": "b190ffe6-1475-4f7c-9109-9e23f0d6cdbd",
   "metadata": {},
   "outputs": [
    {
     "data": {
      "text/plain": [
       "13"
      ]
     },
     "execution_count": 77,
     "metadata": {},
     "output_type": "execute_result"
    }
   ],
   "source": [
    "fl_5"
   ]
  },
  {
   "cell_type": "code",
   "execution_count": 78,
   "id": "4d9e843f-bb32-466d-99ac-eeabea943b06",
   "metadata": {},
   "outputs": [
    {
     "data": {
      "text/html": [
       "<div>\n",
       "<style scoped>\n",
       "    .dataframe tbody tr th:only-of-type {\n",
       "        vertical-align: middle;\n",
       "    }\n",
       "\n",
       "    .dataframe tbody tr th {\n",
       "        vertical-align: top;\n",
       "    }\n",
       "\n",
       "    .dataframe thead th {\n",
       "        text-align: right;\n",
       "    }\n",
       "</style>\n",
       "<table border=\"1\" class=\"dataframe\">\n",
       "  <thead>\n",
       "    <tr style=\"text-align: right;\">\n",
       "      <th></th>\n",
       "      <th>Voter ID</th>\n",
       "      <th>Name</th>\n",
       "      <th>Guardian Name</th>\n",
       "      <th>Home Number</th>\n",
       "      <th>Age</th>\n",
       "      <th>Gender</th>\n",
       "    </tr>\n",
       "  </thead>\n",
       "  <tbody>\n",
       "    <tr>\n",
       "      <th>0</th>\n",
       "      <td>HMV2271849,</td>\n",
       "      <td>Sulochana -</td>\n",
       "      <td>Sannyasi -</td>\n",
       "      <td>௨</td>\n",
       "      <td>30</td>\n",
       "      <td>Female</td>\n",
       "    </tr>\n",
       "    <tr>\n",
       "      <th>1</th>\n",
       "      <td>AYR1092220</td>\n",
       "      <td>Vishnupriya -</td>\n",
       "      <td>Suniwel -</td>\n",
       "      <td>72</td>\n",
       "      <td>35</td>\n",
       "      <td>Female</td>\n",
       "    </tr>\n",
       "    <tr>\n",
       "      <th>2</th>\n",
       "      <td>HMV5303193</td>\n",
       "      <td>Sukuna -</td>\n",
       "      <td>Manohar ..</td>\n",
       "      <td>75</td>\n",
       "      <td>38</td>\n",
       "      <td>Female</td>\n",
       "    </tr>\n",
       "    <tr>\n",
       "      <th>3</th>\n",
       "      <td>HMV2271740</td>\n",
       "      <td>Chengammal -</td>\n",
       "      <td>Nagaraj -</td>\n",
       "      <td>74</td>\n",
       "      <td>37</td>\n",
       "      <td>Female</td>\n",
       "    </tr>\n",
       "    <tr>\n",
       "      <th>4</th>\n",
       "      <td>HMV2277150</td>\n",
       "      <td>Raman -</td>\n",
       "      <td>Ravanan -</td>\n",
       "      <td>74</td>\n",
       "      <td>37</td>\n",
       "      <td>Male</td>\n",
       "    </tr>\n",
       "    <tr>\n",
       "      <th>...</th>\n",
       "      <td>...</td>\n",
       "      <td>...</td>\n",
       "      <td>...</td>\n",
       "      <td>...</td>\n",
       "      <td>...</td>\n",
       "      <td>...</td>\n",
       "    </tr>\n",
       "    <tr>\n",
       "      <th>635</th>\n",
       "      <td>AYR1486570</td>\n",
       "      <td>Devaki -</td>\n",
       "      <td>Chengalvarayan -</td>\n",
       "      <td>456</td>\n",
       "      <td>71</td>\n",
       "      <td>Female</td>\n",
       "    </tr>\n",
       "    <tr>\n",
       "      <th>636</th>\n",
       "      <td>AYR1486679</td>\n",
       "      <td>Abayara: Shiva\\n\\n£ -</td>\n",
       "      <td>Sesharama\\nSessual</td>\n",
       "      <td>18௩</td>\n",
       "      <td>44</td>\n",
       "      <td>Male</td>\n",
       "    </tr>\n",
       "    <tr>\n",
       "      <th>637</th>\n",
       "      <td>HMV2277879</td>\n",
       "      <td>Annamammal -</td>\n",
       "      <td>Thundamudaliyar -</td>\n",
       "      <td>2</td>\n",
       "      <td>75</td>\n",
       "      <td>Female</td>\n",
       "    </tr>\n",
       "    <tr>\n",
       "      <th>638</th>\n",
       "      <td>AYR2308120</td>\n",
       "      <td>Sorna</td>\n",
       "      <td>Brick</td>\n",
       "      <td>௭</td>\n",
       "      <td>26</td>\n",
       "      <td>Female</td>\n",
       "    </tr>\n",
       "    <tr>\n",
       "      <th>639</th>\n",
       "      <td>AYR1456300</td>\n",
       "      <td>Ajith</td>\n",
       "      <td>Tanasekar\\nThanasekar</td>\n",
       "      <td>-</td>\n",
       "      <td>23</td>\n",
       "      <td>Male</td>\n",
       "    </tr>\n",
       "  </tbody>\n",
       "</table>\n",
       "<p>640 rows × 6 columns</p>\n",
       "</div>"
      ],
      "text/plain": [
       "        Voter ID                   Name          Guardian Name Home Number  \\\n",
       "0    HMV2271849,            Sulochana -             Sannyasi -           ௨   \n",
       "1     AYR1092220          Vishnupriya -              Suniwel -          72   \n",
       "2     HMV5303193               Sukuna -             Manohar ..          75   \n",
       "3     HMV2271740           Chengammal -              Nagaraj -          74   \n",
       "4     HMV2277150                Raman -              Ravanan -          74   \n",
       "..           ...                    ...                    ...         ...   \n",
       "635   AYR1486570               Devaki -       Chengalvarayan -         456   \n",
       "636   AYR1486679  Abayara: Shiva\\n\\n£ -     Sesharama\\nSessual         18௩   \n",
       "637   HMV2277879           Annamammal -      Thundamudaliyar -           2   \n",
       "638   AYR2308120                  Sorna                  Brick           ௭   \n",
       "639   AYR1456300                  Ajith  Tanasekar\\nThanasekar           -   \n",
       "\n",
       "    Age  Gender  \n",
       "0    30  Female  \n",
       "1    35  Female  \n",
       "2    38  Female  \n",
       "3    37  Female  \n",
       "4    37    Male  \n",
       "..   ..     ...  \n",
       "635  71  Female  \n",
       "636  44    Male  \n",
       "637  75  Female  \n",
       "638  26  Female  \n",
       "639  23    Male  \n",
       "\n",
       "[640 rows x 6 columns]"
      ]
     },
     "execution_count": 78,
     "metadata": {},
     "output_type": "execute_result"
    }
   ],
   "source": [
    "df_master"
   ]
  },
  {
   "cell_type": "code",
   "execution_count": 80,
   "id": "3ca62dd7-8108-4258-a649-27345ffb5323",
   "metadata": {},
   "outputs": [
    {
     "data": {
      "text/plain": [
       "Voter ID                    AYR1486679\n",
       "Name             Abayara: Shiva\\n\\n£ -\n",
       "Guardian Name       Sesharama\\nSessual\n",
       "Home Number                        18௩\n",
       "Age                                 44\n",
       "Gender                            Male\n",
       "Name: 636, dtype: object"
      ]
     },
     "execution_count": 80,
     "metadata": {},
     "output_type": "execute_result"
    }
   ],
   "source": [
    "df_master.iloc[636]"
   ]
  },
  {
   "cell_type": "code",
   "execution_count": 81,
   "id": "b0f6b9f3-506d-416d-ac08-1a04549afeb2",
   "metadata": {},
   "outputs": [
    {
     "data": {
      "text/plain": [
       "92.08633093525181"
      ]
     },
     "execution_count": 81,
     "metadata": {},
     "output_type": "execute_result"
    }
   ],
   "source": [
    "640/695 * 100"
   ]
  },
  {
   "cell_type": "code",
   "execution_count": 83,
   "id": "d8457b94-7aab-4f04-86d7-259ed95a249e",
   "metadata": {},
   "outputs": [],
   "source": [
    "df_master.to_csv('C:/Users/asus/Desktop/Problem 2/Tamil_Nadu/df_master_raw.csv', index = False, header = True)"
   ]
  },
  {
   "cell_type": "code",
   "execution_count": 118,
   "id": "c3d6ab7f-37b2-4c8f-bd56-ad6b0fea8aa5",
   "metadata": {},
   "outputs": [],
   "source": [
    "df_master = pd.read_csv('df_master_raw.csv')"
   ]
  },
  {
   "cell_type": "code",
   "execution_count": 119,
   "id": "5ebede3b-8c80-40c4-8816-08beeff223a3",
   "metadata": {},
   "outputs": [
    {
     "data": {
      "text/plain": [
       "Voter ID         object\n",
       "Name             object\n",
       "Guardian Name    object\n",
       "Home Number      object\n",
       "Age               int64\n",
       "Gender           object\n",
       "dtype: object"
      ]
     },
     "execution_count": 119,
     "metadata": {},
     "output_type": "execute_result"
    }
   ],
   "source": [
    "df_master.dtypes"
   ]
  },
  {
   "cell_type": "code",
   "execution_count": 120,
   "id": "a2c35005-9669-416e-8b63-faede041c8dd",
   "metadata": {},
   "outputs": [],
   "source": [
    "df_master = df_master.astype(str)"
   ]
  },
  {
   "cell_type": "code",
   "execution_count": 121,
   "id": "0caeca20-0ac3-459d-b1df-035e72c66d89",
   "metadata": {},
   "outputs": [],
   "source": [
    "df_master['Voter ID'] = df_master['Voter ID'].apply(lambda x: ''.join(filter(str.isalnum, x)))\n",
    "df_master['Name'] = df_master['Name'].apply(lambda x: ''.join(filter(str.isalnum, x)))\n",
    "df_master['Guardian Name'] = df_master['Guardian Name'].apply(lambda x: ''.join(filter(str.isalpha, x)))\n",
    "df_master['Home Number'] = df_master['Home Number'].apply(lambda x: ''.join(re.findall(r'\\d+', str(x))))"
   ]
  },
  {
   "cell_type": "code",
   "execution_count": 122,
   "id": "9119874c-f18a-4c7b-9302-781f866c4a12",
   "metadata": {},
   "outputs": [
    {
     "data": {
      "text/html": [
       "<div>\n",
       "<style scoped>\n",
       "    .dataframe tbody tr th:only-of-type {\n",
       "        vertical-align: middle;\n",
       "    }\n",
       "\n",
       "    .dataframe tbody tr th {\n",
       "        vertical-align: top;\n",
       "    }\n",
       "\n",
       "    .dataframe thead th {\n",
       "        text-align: right;\n",
       "    }\n",
       "</style>\n",
       "<table border=\"1\" class=\"dataframe\">\n",
       "  <thead>\n",
       "    <tr style=\"text-align: right;\">\n",
       "      <th></th>\n",
       "      <th>Voter ID</th>\n",
       "      <th>Name</th>\n",
       "      <th>Guardian Name</th>\n",
       "      <th>Home Number</th>\n",
       "      <th>Age</th>\n",
       "      <th>Gender</th>\n",
       "    </tr>\n",
       "  </thead>\n",
       "  <tbody>\n",
       "    <tr>\n",
       "      <th>0</th>\n",
       "      <td>HMV2271849</td>\n",
       "      <td>Sulochana</td>\n",
       "      <td>Sannyasi</td>\n",
       "      <td>௨</td>\n",
       "      <td>30</td>\n",
       "      <td>Female</td>\n",
       "    </tr>\n",
       "    <tr>\n",
       "      <th>1</th>\n",
       "      <td>AYR1092220</td>\n",
       "      <td>Vishnupriya</td>\n",
       "      <td>Suniwel</td>\n",
       "      <td>72</td>\n",
       "      <td>35</td>\n",
       "      <td>Female</td>\n",
       "    </tr>\n",
       "    <tr>\n",
       "      <th>2</th>\n",
       "      <td>HMV5303193</td>\n",
       "      <td>Sukuna</td>\n",
       "      <td>Manohar</td>\n",
       "      <td>75</td>\n",
       "      <td>38</td>\n",
       "      <td>Female</td>\n",
       "    </tr>\n",
       "    <tr>\n",
       "      <th>3</th>\n",
       "      <td>HMV2271740</td>\n",
       "      <td>Chengammal</td>\n",
       "      <td>Nagaraj</td>\n",
       "      <td>74</td>\n",
       "      <td>37</td>\n",
       "      <td>Female</td>\n",
       "    </tr>\n",
       "    <tr>\n",
       "      <th>4</th>\n",
       "      <td>HMV2277150</td>\n",
       "      <td>Raman</td>\n",
       "      <td>Ravanan</td>\n",
       "      <td>74</td>\n",
       "      <td>37</td>\n",
       "      <td>Male</td>\n",
       "    </tr>\n",
       "  </tbody>\n",
       "</table>\n",
       "</div>"
      ],
      "text/plain": [
       "     Voter ID         Name Guardian Name Home Number Age  Gender\n",
       "0  HMV2271849    Sulochana      Sannyasi           ௨  30  Female\n",
       "1  AYR1092220  Vishnupriya       Suniwel          72  35  Female\n",
       "2  HMV5303193       Sukuna       Manohar          75  38  Female\n",
       "3  HMV2271740   Chengammal       Nagaraj          74  37  Female\n",
       "4  HMV2277150        Raman       Ravanan          74  37    Male"
      ]
     },
     "execution_count": 122,
     "metadata": {},
     "output_type": "execute_result"
    }
   ],
   "source": [
    "df_master.head()"
   ]
  },
  {
   "cell_type": "code",
   "execution_count": 123,
   "id": "893329c6-fde2-43d2-97bd-49cb436f2155",
   "metadata": {},
   "outputs": [],
   "source": [
    "df_master.to_csv('C:/Users/asus/Desktop/Problem 2/Tamil_Nadu/df_master_clean.csv', index = False, header = True)"
   ]
  },
  {
   "cell_type": "code",
   "execution_count": 126,
   "id": "adc98842-c95e-4eb6-9630-dffd0d224097",
   "metadata": {},
   "outputs": [
    {
     "name": "stdout",
     "output_type": "stream",
     "text": [
      "Retention Rate: 92.08633093525181\n"
     ]
    }
   ],
   "source": [
    "print(f'Retention Rate: {(len(df_master)/len(imgs) * 100)}')"
   ]
  }
 ],
 "metadata": {
  "kernelspec": {
   "display_name": "Python 3 (ipykernel)",
   "language": "python",
   "name": "python3"
  },
  "language_info": {
   "codemirror_mode": {
    "name": "ipython",
    "version": 3
   },
   "file_extension": ".py",
   "mimetype": "text/x-python",
   "name": "python",
   "nbconvert_exporter": "python",
   "pygments_lexer": "ipython3",
   "version": "3.9.7"
  }
 },
 "nbformat": 4,
 "nbformat_minor": 5
}
